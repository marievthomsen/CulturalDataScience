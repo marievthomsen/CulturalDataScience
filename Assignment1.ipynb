{
 "cells": [
  {
   "cell_type": "markdown",
   "id": "c23f6003-17a7-491a-9fae-3ae3ddd36d47",
   "metadata": {},
   "source": [
    "# This is my notebook"
   ]
  },
  {
   "cell_type": "code",
   "execution_count": null,
   "id": "27565f4d-f4d5-463d-9bcf-12c3dfb3faea",
   "metadata": {},
   "outputs": [],
   "source": []
  }
 ],
 "metadata": {
  "kernelspec": {
   "display_name": "Python 3 ",
   "language": "python",
   "name": "python3"
  },
  "language_info": {
   "codemirror_mode": {
    "name": "ipython",
    "version": 3
   },
   "file_extension": ".py",
   "mimetype": "text/x-python",
   "name": "python",
   "nbconvert_exporter": "python",
   "pygments_lexer": "ipython3",
   "version": "3.10.14"
  }
 },
 "nbformat": 4,
 "nbformat_minor": 5
}
